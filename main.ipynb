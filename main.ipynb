{
 "cells": [
  {
   "cell_type": "code",
   "execution_count": 4,
   "id": "d3fa6885",
   "metadata": {},
   "outputs": [
    {
     "ename": "AttributeError",
     "evalue": "'Settings' object has no attribute 'IMAGE_MODEL'",
     "output_type": "error",
     "traceback": [
      "\u001b[31m---------------------------------------------------------------------------\u001b[39m",
      "\u001b[31mAttributeError\u001b[39m                            Traceback (most recent call last)",
      "\u001b[36mCell\u001b[39m\u001b[36m \u001b[39m\u001b[32mIn[4]\u001b[39m\u001b[32m, line 16\u001b[39m\n\u001b[32m      7\u001b[39m \u001b[38;5;28;01mfrom\u001b[39;00m\u001b[38;5;250m \u001b[39m\u001b[34;01mchengyu\u001b[39;00m\u001b[34;01m.\u001b[39;00m\u001b[34;01mcover_ai\u001b[39;00m\u001b[38;5;250m \u001b[39m\u001b[38;5;28;01mimport\u001b[39;00m draw_cover_png_story\n\u001b[32m      8\u001b[39m \u001b[38;5;66;03m# ...\u001b[39;00m\n\u001b[32m      9\u001b[39m \u001b[38;5;66;03m# cover_png = draw_cover_png(settings.SHOW_NAME, data[\"chengyu\"], data[\"pinyin\"], data[\"gloss\"])\u001b[39;00m\n\u001b[32m     10\u001b[39m cover_png = draw_cover_png_story(\n\u001b[32m     11\u001b[39m     chengyu=data[\u001b[33m\"\u001b[39m\u001b[33mchengyu\u001b[39m\u001b[33m\"\u001b[39m],\n\u001b[32m     12\u001b[39m     pinyin=data[\u001b[33m\"\u001b[39m\u001b[33mpinyin\u001b[39m\u001b[33m\"\u001b[39m],\n\u001b[32m     13\u001b[39m     english=data[\u001b[33m\"\u001b[39m\u001b[33mgloss\u001b[39m\u001b[33m\"\u001b[39m],\n\u001b[32m     14\u001b[39m     script=data[\u001b[33m\"\u001b[39m\u001b[33mscript\u001b[39m\u001b[33m\"\u001b[39m],\n\u001b[32m     15\u001b[39m     show_mark=settings.SHOW_NAME,\n\u001b[32m---> \u001b[39m\u001b[32m16\u001b[39m     model=\u001b[43msettings\u001b[49m\u001b[43m.\u001b[49m\u001b[43mIMAGE_MODEL\u001b[49m,\n\u001b[32m     17\u001b[39m     size=settings.IMAGE_SIZE,\n\u001b[32m     18\u001b[39m     out_size=\u001b[32m3000\u001b[39m\n\u001b[32m     19\u001b[39m )\n\u001b[32m     22\u001b[39m \u001b[38;5;66;03m# 0) Already-used idioms (full set)\u001b[39;00m\n\u001b[32m     23\u001b[39m forbidden = list_existing_chengyu(settings.REPO, settings.GITHUB_BRANCH)\n",
      "\u001b[31mAttributeError\u001b[39m: 'Settings' object has no attribute 'IMAGE_MODEL'"
     ]
    }
   ],
   "source": [
    "from chengyu.config import settings\n",
    "from chengyu.dedupe import list_existing_chengyu\n",
    "from chengyu.gen import gen_unique_episode_strict, script_to_markdown\n",
    "#from chengyu.cover import draw_cover_png\n",
    "from chengyu.tts import tts_mp3\n",
    "from chengyu.publisher import publish_episode\n",
    "from chengyu.cover_ai import draw_cover_png_story\n",
    "# ...\n",
    "# cover_png = draw_cover_png(settings.SHOW_NAME, data[\"chengyu\"], data[\"pinyin\"], data[\"gloss\"])\n",
    "cover_png = draw_cover_png_story(\n",
    "    chengyu=data[\"chengyu\"],\n",
    "    pinyin=data[\"pinyin\"],\n",
    "    english=data[\"gloss\"],\n",
    "    script=data[\"script\"],\n",
    "    show_mark=settings.SHOW_NAME,\n",
    "    model=settings.IMAGE_MODEL,\n",
    "    size=settings.IMAGE_SIZE,\n",
    "    out_size=3000\n",
    ")\n",
    "\n",
    "\n",
    "# 0) Already-used idioms (full set)\n",
    "forbidden = list_existing_chengyu(settings.REPO, settings.GITHUB_BRANCH)\n",
    "\n",
    "# 1) Strict-unique generation\n",
    "data = gen_unique_episode_strict(settings.SHOW_NAME, settings.GEN_MODEL, forbidden,\n",
    "                                 batch_size=20, max_rounds=20)\n",
    "\n",
    "# 2) Cover image\n",
    "cover_png = draw_cover_png(settings.SHOW_NAME, data[\"chengyu\"], data[\"pinyin\"], data[\"gloss\"])\n",
    "\n",
    "# 3) TTS (disable by setting SKIP_TTS=True)\n",
    "SKIP_TTS = False\n",
    "audio_mp3 = None if SKIP_TTS else tts_mp3(data[\"script\"], settings.TTS_MODEL, settings.TTS_VOICE)\n",
    "\n",
    "# 4) Structured Markdown body\n",
    "body_md = script_to_markdown(data[\"chengyu\"], data[\"pinyin\"], data[\"gloss\"], data[\"teaser\"], data[\"script\"], settings.GEN_MODEL)\n",
    "\n",
    "# 5) Publish\n",
    "publish_episode(\n",
    "    show_name=settings.SHOW_NAME,\n",
    "    repo=settings.REPO,\n",
    "    branch=settings.GITHUB_BRANCH,\n",
    "    site_url=settings.SITE_URL,\n",
    "    baseurl=settings.BASEURL,\n",
    "    publish_time_utc=settings.PUBLISH_TIME_UTC,\n",
    "    data=data,\n",
    "    body_md=body_md,\n",
    "    cover_png=cover_png,\n",
    "    audio_mp3=audio_mp3,\n",
    "    dry_run=settings.DRY_RUN,\n",
    ")\n"
   ]
  },
  {
   "cell_type": "code",
   "execution_count": 3,
   "id": "d3b04dda",
   "metadata": {},
   "outputs": [
    {
     "data": {
      "text/plain": [
       "225719"
      ]
     },
     "execution_count": 3,
     "metadata": {},
     "output_type": "execute_result"
    }
   ],
   "source": [
    "from chengyu.cover_ai import draw_cover_png_story\n",
    "from chengyu.config import settings\n",
    "\n",
    "png = draw_cover_png_story(\n",
    "    chengyu=\"画蛇添足\",\n",
    "    pinyin=\"huà shé tiān zú\",\n",
    "    english=\"to add unnecessary details; to overdo something\",\n",
    "    script=\"Here’s the story behind it: In ancient times ...\",  # any short origin helps\n",
    "    show_mark=settings.SHOW_NAME,\n",
    "    model=settings.IMAGE_MODEL,\n",
    "    size=settings.IMAGE_SIZE,          # e.g. \"1024x1024\" or \"auto\"\n",
    "    out_size=3000,\n",
    "    seal_text=\"成语\",                   # small red stamp\n",
    "    seal_pos=\"tr\"                      # 'tr', 'tl', 'br', 'bl'\n",
    ")\n",
    "open(\"cover_example.png\",\"wb\").write(png)\n"
   ]
  },
  {
   "cell_type": "code",
   "execution_count": 7,
   "id": "cb5e335f",
   "metadata": {},
   "outputs": [
    {
     "ename": "AttributeError",
     "evalue": "'Settings' object has no attribute 'CN_BRUSH_FONT'",
     "output_type": "error",
     "traceback": [
      "\u001b[31m---------------------------------------------------------------------------\u001b[39m",
      "\u001b[31mAttributeError\u001b[39m                            Traceback (most recent call last)",
      "\u001b[36mCell\u001b[39m\u001b[36m \u001b[39m\u001b[32mIn[7]\u001b[39m\u001b[32m, line 1\u001b[39m\n\u001b[32m----> \u001b[39m\u001b[32m1\u001b[39m \u001b[38;5;28;01mimport\u001b[39;00m\u001b[38;5;250m \u001b[39m\u001b[34;01mos\u001b[39;00m; \u001b[38;5;28mprint\u001b[39m(os.path.exists(settings.CN_BRUSH_FONT), settings.CN_BRUSH_FONT)\n",
      "\u001b[31mAttributeError\u001b[39m: 'Settings' object has no attribute 'CN_BRUSH_FONT'"
     ]
    }
   ],
   "source": [
    "import os; print(os.path.exists(settings.CN_BRUSH_FONT), settings.CN_BRUSH_FONT)\n"
   ]
  }
 ],
 "metadata": {
  "kernelspec": {
   "display_name": "chengyudaily",
   "language": "python",
   "name": "python3"
  },
  "language_info": {
   "codemirror_mode": {
    "name": "ipython",
    "version": 3
   },
   "file_extension": ".py",
   "mimetype": "text/x-python",
   "name": "python",
   "nbconvert_exporter": "python",
   "pygments_lexer": "ipython3",
   "version": "3.11.13"
  }
 },
 "nbformat": 4,
 "nbformat_minor": 5
}
