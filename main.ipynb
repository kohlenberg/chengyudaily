{
 "cells": [
  {
   "cell_type": "code",
   "execution_count": null,
   "id": "d3fa6885",
   "metadata": {},
   "outputs": [
    {
     "name": "stdout",
     "output_type": "stream",
     "text": [
      "+ git clone --depth 1 --branch main *** /var/folders/wn/z035vl9x1_q0_8dhkvn9n24h0000gn/T/chengyu_seen_b5i6cahx\n"
     ]
    },
    {
     "name": "stderr",
     "output_type": "stream",
     "text": [
      "Cloning into '/var/folders/wn/z035vl9x1_q0_8dhkvn9n24h0000gn/T/chengyu_seen_b5i6cahx'...\n"
     ]
    },
    {
     "name": "stdout",
     "output_type": "stream",
     "text": [
      "+ git clone --depth 1 --branch main *** /var/folders/wn/z035vl9x1_q0_8dhkvn9n24h0000gn/T/chengyu_pub_czpmh9q_\n"
     ]
    },
    {
     "name": "stderr",
     "output_type": "stream",
     "text": [
      "Cloning into '/var/folders/wn/z035vl9x1_q0_8dhkvn9n24h0000gn/T/chengyu_pub_czpmh9q_'...\n"
     ]
    },
    {
     "name": "stdout",
     "output_type": "stream",
     "text": [
      "+ git config user.name Chengyu Publisher Bot\n",
      "+ git config user.email actions@users.noreply.github.com\n",
      "+ git clone --depth 1 --branch main *** /var/folders/wn/z035vl9x1_q0_8dhkvn9n24h0000gn/T/chengyu_seen_rksqu39d\n"
     ]
    },
    {
     "name": "stderr",
     "output_type": "stream",
     "text": [
      "Cloning into '/var/folders/wn/z035vl9x1_q0_8dhkvn9n24h0000gn/T/chengyu_seen_rksqu39d'...\n"
     ]
    },
    {
     "name": "stdout",
     "output_type": "stream",
     "text": [
      "+ git add .\n",
      "+ git commit -m Add episode 2025-08-25-bei-gong-she-ying\n",
      "[main 7ae5a55] Add episode 2025-08-25-bei-gong-she-ying\n",
      " 5 files changed, 48 insertions(+)\n",
      " create mode 100644 _posts/2025-08-25-bei-gong-she-ying.md\n",
      " create mode 100644 episodes/2025-08-25-bei-gong-she-ying/audio.mp3\n",
      " create mode 100644 episodes/2025-08-25-bei-gong-she-ying/cover.png\n",
      " create mode 100644 episodes/2025-08-25-bei-gong-she-ying/metadata.json\n",
      " create mode 100644 episodes/2025-08-25-bei-gong-she-ying/transcript.txt\n",
      "+ git push origin main\n",
      "✔ Pushed one commit. Pages workflow will build & deploy.\n"
     ]
    },
    {
     "name": "stderr",
     "output_type": "stream",
     "text": [
      "To https://github.com/kohlenberg/chengyudaily.git\n",
      "   f2c4b48..7ae5a55  main -> main\n"
     ]
    },
    {
     "data": {
      "text/plain": [
       "{'folder': '2025-08-25-bei-gong-she-ying',\n",
       " 'post': '2025-08-25-bei-gong-she-ying.md'}"
      ]
     },
     "execution_count": 1,
     "metadata": {},
     "output_type": "execute_result"
    }
   ],
   "source": [
    "from chengyu.config import settings\n",
    "from chengyu.dedupe import list_existing_chengyu\n",
    "from chengyu.gen import gen_unique_episode_strict, script_to_markdown\n",
    "#from chengyu.cover import draw_cover_png\n",
    "from chengyu.tts import tts_mp3\n",
    "from chengyu.publisher import publish_episode\n",
    "from chengyu.cover_ai import draw_cover_png_story\n",
    "# ...\n",
    "# cover_png = draw_cover_png(settings.SHOW_NAME, data[\"chengyu\"], data[\"pinyin\"], data[\"gloss\"])\n",
    "cover_png = draw_cover_png_story(\n",
    "    chengyu=data[\"chengyu\"],\n",
    "    pinyin=data[\"pinyin\"],\n",
    "    english=data[\"gloss\"],\n",
    "    script=data[\"script\"],\n",
    "    show_mark=settings.SHOW_NAME,\n",
    "    model=settings.IMAGE_MODEL,\n",
    "    size=settings.IMAGE_SIZE,\n",
    "    out_size=3000\n",
    ")\n",
    "\n",
    "\n",
    "# 0) Already-used idioms (full set)\n",
    "forbidden = list_existing_chengyu(settings.REPO, settings.GITHUB_BRANCH)\n",
    "\n",
    "# 1) Strict-unique generation\n",
    "data = gen_unique_episode_strict(settings.SHOW_NAME, settings.GEN_MODEL, forbidden,\n",
    "                                 batch_size=20, max_rounds=20)\n",
    "\n",
    "# 2) Cover image\n",
    "cover_png = draw_cover_png(settings.SHOW_NAME, data[\"chengyu\"], data[\"pinyin\"], data[\"gloss\"])\n",
    "\n",
    "# 3) TTS (disable by setting SKIP_TTS=True)\n",
    "SKIP_TTS = False\n",
    "audio_mp3 = None if SKIP_TTS else tts_mp3(data[\"script\"], settings.TTS_MODEL, settings.TTS_VOICE)\n",
    "\n",
    "# 4) Structured Markdown body\n",
    "body_md = script_to_markdown(data[\"chengyu\"], data[\"pinyin\"], data[\"gloss\"], data[\"teaser\"], data[\"script\"], settings.GEN_MODEL)\n",
    "\n",
    "# 5) Publish\n",
    "publish_episode(\n",
    "    show_name=settings.SHOW_NAME,\n",
    "    repo=settings.REPO,\n",
    "    branch=settings.GITHUB_BRANCH,\n",
    "    site_url=settings.SITE_URL,\n",
    "    baseurl=settings.BASEURL,\n",
    "    publish_time_utc=settings.PUBLISH_TIME_UTC,\n",
    "    data=data,\n",
    "    body_md=body_md,\n",
    "    cover_png=cover_png,\n",
    "    audio_mp3=audio_mp3,\n",
    "    dry_run=settings.DRY_RUN,\n",
    ")\n"
   ]
  }
 ],
 "metadata": {
  "kernelspec": {
   "display_name": "chengyudaily",
   "language": "python",
   "name": "python3"
  },
  "language_info": {
   "codemirror_mode": {
    "name": "ipython",
    "version": 3
   },
   "file_extension": ".py",
   "mimetype": "text/x-python",
   "name": "python",
   "nbconvert_exporter": "python",
   "pygments_lexer": "ipython3",
   "version": "3.11.13"
  }
 },
 "nbformat": 4,
 "nbformat_minor": 5
}
