{
 "cells": [
  {
   "cell_type": "markdown",
   "id": "184c8714",
   "metadata": {},
   "source": [
    "\n",
    "# 🚀 Chengyu Bites — Generate & Publish (GitHub Releases + Jekyll)\n",
    "\n",
    "This notebook:\n",
    "1. Generates a **random 成语** episode (script in your structure).\n",
    "2. Lets you **review/edit**.\n",
    "3. Creates **cover.png**, **transcript.txt**.\n",
    "4. Generates **audio.mp3** via OpenAI TTS (optional).\n",
    "5. **Publishes**:\n",
    "   - Uploads MP3 as a **GitHub Release asset** (stable HTTPS URL for RSS).\n",
    "   - Commits Jekyll post + assets to your repo (`_posts/` + `episodes/…/`).\n",
    "\n",
    "> It’s preconfigured for your repo `kohlenberg/chengyudaily`. Adjust in the *Config* cell if needed.\n"
   ]
  },
  {
   "cell_type": "markdown",
   "id": "cad52668",
   "metadata": {},
   "source": [
    "## 1) Setup"
   ]
  },
  {
   "cell_type": "code",
   "execution_count": 51,
   "id": "b37b90f4",
   "metadata": {},
   "outputs": [
    {
     "name": "stdout",
     "output_type": "stream",
     "text": [
      "Requirement already satisfied: openai in /Users/tilman/opt/anaconda3/envs/chengyudaily/lib/python3.11/site-packages (1.100.2)\n",
      "Requirement already satisfied: pillow in /Users/tilman/opt/anaconda3/envs/chengyudaily/lib/python3.11/site-packages (11.3.0)\n",
      "Requirement already satisfied: requests in /Users/tilman/opt/anaconda3/envs/chengyudaily/lib/python3.11/site-packages (2.32.5)\n",
      "Requirement already satisfied: pyyaml in /Users/tilman/opt/anaconda3/envs/chengyudaily/lib/python3.11/site-packages (6.0.2)\n",
      "Requirement already satisfied: anyio<5,>=3.5.0 in /Users/tilman/opt/anaconda3/envs/chengyudaily/lib/python3.11/site-packages (from openai) (4.10.0)\n",
      "Requirement already satisfied: distro<2,>=1.7.0 in /Users/tilman/opt/anaconda3/envs/chengyudaily/lib/python3.11/site-packages (from openai) (1.9.0)\n",
      "Requirement already satisfied: httpx<1,>=0.23.0 in /Users/tilman/opt/anaconda3/envs/chengyudaily/lib/python3.11/site-packages (from openai) (0.28.1)\n",
      "Requirement already satisfied: jiter<1,>=0.4.0 in /Users/tilman/opt/anaconda3/envs/chengyudaily/lib/python3.11/site-packages (from openai) (0.10.0)\n",
      "Requirement already satisfied: pydantic<3,>=1.9.0 in /Users/tilman/opt/anaconda3/envs/chengyudaily/lib/python3.11/site-packages (from openai) (2.11.7)\n",
      "Requirement already satisfied: sniffio in /Users/tilman/opt/anaconda3/envs/chengyudaily/lib/python3.11/site-packages (from openai) (1.3.1)\n",
      "Requirement already satisfied: tqdm>4 in /Users/tilman/opt/anaconda3/envs/chengyudaily/lib/python3.11/site-packages (from openai) (4.67.1)\n",
      "Requirement already satisfied: typing-extensions<5,>=4.11 in /Users/tilman/opt/anaconda3/envs/chengyudaily/lib/python3.11/site-packages (from openai) (4.14.1)\n",
      "Requirement already satisfied: idna>=2.8 in /Users/tilman/opt/anaconda3/envs/chengyudaily/lib/python3.11/site-packages (from anyio<5,>=3.5.0->openai) (3.10)\n",
      "Requirement already satisfied: certifi in /Users/tilman/opt/anaconda3/envs/chengyudaily/lib/python3.11/site-packages (from httpx<1,>=0.23.0->openai) (2025.8.3)\n",
      "Requirement already satisfied: httpcore==1.* in /Users/tilman/opt/anaconda3/envs/chengyudaily/lib/python3.11/site-packages (from httpx<1,>=0.23.0->openai) (1.0.9)\n",
      "Requirement already satisfied: h11>=0.16 in /Users/tilman/opt/anaconda3/envs/chengyudaily/lib/python3.11/site-packages (from httpcore==1.*->httpx<1,>=0.23.0->openai) (0.16.0)\n",
      "Requirement already satisfied: annotated-types>=0.6.0 in /Users/tilman/opt/anaconda3/envs/chengyudaily/lib/python3.11/site-packages (from pydantic<3,>=1.9.0->openai) (0.7.0)\n",
      "Requirement already satisfied: pydantic-core==2.33.2 in /Users/tilman/opt/anaconda3/envs/chengyudaily/lib/python3.11/site-packages (from pydantic<3,>=1.9.0->openai) (2.33.2)\n",
      "Requirement already satisfied: typing-inspection>=0.4.0 in /Users/tilman/opt/anaconda3/envs/chengyudaily/lib/python3.11/site-packages (from pydantic<3,>=1.9.0->openai) (0.4.1)\n",
      "Requirement already satisfied: charset_normalizer<4,>=2 in /Users/tilman/opt/anaconda3/envs/chengyudaily/lib/python3.11/site-packages (from requests) (3.4.3)\n",
      "Requirement already satisfied: urllib3<3,>=1.21.1 in /Users/tilman/opt/anaconda3/envs/chengyudaily/lib/python3.11/site-packages (from requests) (2.5.0)\n",
      "OPENAI_API_KEY set?  True\n",
      "GITHUB_TOKEN set?    True\n"
     ]
    }
   ],
   "source": [
    "\n",
    "# If needed, install dependencies (uncomment):\n",
    "!pip install --upgrade openai pillow requests pyyaml\n",
    "\n",
    "import os, io, re, json, textwrap, unicodedata, datetime, base64, requests\n",
    "from pathlib import Path\n",
    "from typing import Dict, Any\n",
    "from PIL import Image, ImageDraw, ImageFont\n",
    "\n",
    "print(\"OPENAI_API_KEY set? \", bool(os.environ.get(\"OPENAI_API_KEY\")))\n",
    "print(\"GITHUB_TOKEN set?   \", bool(os.environ.get(\"GITHUB_TOKEN\")))\n"
   ]
  },
  {
   "cell_type": "markdown",
   "id": "dbca031c",
   "metadata": {},
   "source": [
    "## 2) Config"
   ]
  },
  {
   "cell_type": "code",
   "execution_count": 52,
   "id": "1d768bd8",
   "metadata": {},
   "outputs": [],
   "source": [
    "\n",
    "# ---- Configurable values ----\n",
    "SHOW_NAME   = \"Chengyu Bites\"\n",
    "REPO        = \"kohlenberg/chengyudaily\"                    # GitHub repo: owner/name\n",
    "SITE_URL    = \"https://kohlenberg.github.io/chengyudaily\"  # Deployed Pages base\n",
    "GEN_MODEL   = \"gpt-4o-mini\"        # text generation model\n",
    "TTS_MODEL   = \"gpt-4o-mini-tts\"    # TTS model\n",
    "TTS_VOICE   = \"alloy\"              # voice name\n",
    "PUBLISH_TIME_UTC = \"10:00:00 +0000\" # front-matter time\n",
    "\n",
    "DRY_RUN = False                    # True = don't hit GitHub APIs, just preview\n",
    "DO_TTS  = True                     # False = skip audio (useful if out of quota)\n"
   ]
  },
  {
   "cell_type": "markdown",
   "id": "a077ea23",
   "metadata": {},
   "source": [
    "## 3) Helpers (slugify, cover drawing, OpenAI, GitHub API)"
   ]
  },
  {
   "cell_type": "code",
   "execution_count": 53,
   "id": "27723f9c",
   "metadata": {},
   "outputs": [],
   "source": [
    "\n",
    "import textwrap\n",
    "\n",
    "def slugify(text: str) -> str:\n",
    "    text = unicodedata.normalize(\"NFKD\", text)\n",
    "    text = re.sub(r\"[^\\w\\s-]\", \"\", text, flags=re.U).strip().lower()\n",
    "    text = re.sub(r\"[-\\s]+\", \"-\", text, flags=re.U)\n",
    "    return text or \"episode\"\n",
    "\n",
    "def ensure_font(size: int):\n",
    "    for cand in [\n",
    "        \"/usr/share/fonts/truetype/dejavu/DejaVuSans.ttf\",\n",
    "        \"/System/Library/Fonts/PingFang.ttc\",\n",
    "        \"/System/Library/Fonts/Supplemental/Arial Unicode.ttf\",\n",
    "        \"/Library/Fonts/Arial Unicode.ttf\",\n",
    "    ]:\n",
    "        try:\n",
    "            return ImageFont.truetype(cand, size)\n",
    "        except Exception:\n",
    "            pass\n",
    "    return ImageFont.load_default()\n",
    "\n",
    "def draw_cover_png(chengyu: str, pinyin: str, gloss: str) -> bytes:\n",
    "    W = H = 3000\n",
    "    bg = \"#0e1116\"\n",
    "    img = Image.new(\"RGB\", (W, H), bg)\n",
    "    d = ImageDraw.Draw(img)\n",
    "\n",
    "    font_show = ensure_font(120)\n",
    "    font_cn   = ensure_font(440)\n",
    "    font_py   = ensure_font(150)\n",
    "    font_gl   = ensure_font(90)\n",
    "\n",
    "    d.text((150, 180), SHOW_NAME, font=font_show, fill=(180,200,255))\n",
    "\n",
    "    bbox_cn = d.textbbox((0,0), chengyu, font=font_cn)\n",
    "    w_cn = bbox_cn[2]-bbox_cn[0]; h_cn = bbox_cn[3]-bbox_cn[1]\n",
    "    x_cn = (W - w_cn)//2; y_cn = (H - h_cn)//2 - 140\n",
    "    d.text((x_cn, y_cn), chengyu, font=font_cn, fill=(255,255,255))\n",
    "\n",
    "    bbox_py = d.textbbox((0,0), pinyin, font=font_py)\n",
    "    w_py = bbox_py[2]-bbox_py[0]\n",
    "    x_py = (W - w_py)//2; y_py = y_cn + h_cn + 60\n",
    "    d.text((x_py, y_py), pinyin, font=font_py, fill=(200,220,255))\n",
    "\n",
    "    gloss_wrapped = textwrap.fill(gloss, width=30)\n",
    "    d.multiline_text((150, H-520), gloss_wrapped, font=font_gl, fill=(160,180,220), spacing=12)\n",
    "\n",
    "    buf = io.BytesIO()\n",
    "    img.save(buf, \"PNG\", optimize=True)\n",
    "    return buf.getvalue()\n",
    "\n",
    "# ----- OpenAI (gen + tts) -----\n",
    "def gen_episode(show_name: str):\n",
    "    from openai import OpenAI\n",
    "    import json\n",
    "    client = OpenAI()\n",
    "\n",
    "    SYSTEM = (\n",
    "        \"You create short, conversational podcast episodes about Chinese 成语. \"\n",
    "        \"Return ONLY a JSON object. Do not include code fences or extra text.\"\n",
    "    )\n",
    "\n",
    "    STRUCT = f\"\"\"\n",
    "Pick a well-known Chinese 成语 at random and create a short, conversational episode.\n",
    "\n",
    "Follow this structure EXACTLY in the \"script\" field:\n",
    "1) Intro: Start with: \"Welcome to {show_name} — your quick summary on Chinese 成语.\" Add a one-sentence teaser about the theme. Add [break 1s].\n",
    "2) Reveal: Say \"The phrase is:\" then the idiom in CHINESE CHARACTERS, followed by the pinyin.\n",
    "3) Character breakdown: Each character with pinyin and meaning, each line ending with [break 0.5s].\n",
    "4) Full idiom again: characters + literal & figurative meaning. Add [break 1s].\n",
    "5) Origin story: 4–5 sentences. Start with \"Here’s the story behind it:\" then [break 1.5s], then the story, then [break 1.5s].\n",
    "6) Three examples: For each, give Mandarin on one line and English on the next. Put [break 1s] after each pair.\n",
    "7) Closing: Repeat the idiom in Chinese and the short English meaning; thank the listener and sign off with: \"Thanks for listening to {show_name}! See you next time for another idiom.\" End with [break 1s].\n",
    "\n",
    "Important:\n",
    "- Keep the idiom in CHINESE CHARACTERS in the script (use pinyin only where asked).\n",
    "- Use [break 0.5s], [break 1s], [break 1.5s]. No SSML.\n",
    "- Slightly slower tone via wording and breaks (≈90%).\n",
    "\n",
    "Return JSON with keys:\n",
    "{{\n",
    "  \"chengyu\": \"<characters>\",\n",
    "  \"pinyin\": \"<pinyin with tone marks>\",\n",
    "  \"gloss\": \"<literal + figurative meaning in one short line>\",\n",
    "  \"teaser\": \"<one-sentence teaser>\",\n",
    "  \"script\": \"<full episode script with [break] tags>\"\n",
    "}}\n",
    "\"\"\"\n",
    "\n",
    "    resp = client.chat.completions.create(\n",
    "        model=GEN_MODEL,             # e.g., \"gpt-4o-mini\"\n",
    "        temperature=0.7,\n",
    "        response_format={\"type\":\"json_object\"},   # << force valid JSON\n",
    "        messages=[\n",
    "            {\"role\":\"system\",\"content\":SYSTEM},\n",
    "            {\"role\":\"user\",\"content\":STRUCT}\n",
    "        ]\n",
    "    )\n",
    "\n",
    "    content = resp.choices[0].message.content\n",
    "    data = json.loads(content)  # will succeed because JSON mode\n",
    "    # sanity check\n",
    "    for k in (\"chengyu\",\"pinyin\",\"gloss\",\"teaser\",\"script\"):\n",
    "        assert k in data and isinstance(data[k], str) and data[k].strip()\n",
    "    return data\n",
    "\n",
    "\n",
    "    resp = client.chat.completions.create(\n",
    "        model=GEN_MODEL,\n",
    "        temperature=0.7,\n",
    "        messages=[\n",
    "            {\"role\": \"system\", \"content\": SYSTEM},\n",
    "            {\"role\": \"user\", \"content\": STRUCT}\n",
    "        ]\n",
    "    )\n",
    "    content = resp.choices[0].message.content.strip()\n",
    "    content = re.sub(r\"^```json\\s*|\\s*```$\", \"\", content, flags=re.S)\n",
    "    data = json.loads(content)\n",
    "    assert all(k in data for k in (\"chengyu\",\"pinyin\",\"gloss\",\"teaser\",\"script\"))\n",
    "    return data\n",
    "\n",
    "def tts_mp3(script_text: str) -> bytes:\n",
    "    from openai import OpenAI\n",
    "    client = OpenAI()\n",
    "    cleaned = re.sub(r\"\\[break\\s*[0-9.]+s\\]\", \"\\n\\n\", script_text)\n",
    "    with client.audio.speech.with_streaming_response.create(\n",
    "        model=TTS_MODEL,\n",
    "        voice=TTS_VOICE,\n",
    "        input=cleaned\n",
    "    ) as response:\n",
    "        buf = io.BytesIO()\n",
    "        for chunk in response.iter_bytes():\n",
    "            buf.write(chunk)\n",
    "    return buf.getvalue()\n",
    "\n",
    "# ----- GitHub API -----\n",
    "GITHUB_API = \"https://api.github.com\"\n",
    "def gh_headers():\n",
    "    token = os.environ.get(\"GITHUB_TOKEN\")\n",
    "    if not token:\n",
    "        raise RuntimeError(\"GITHUB_TOKEN not set.\")\n",
    "    return {\"Authorization\": f\"token {token}\", \"Accept\": \"application/vnd.github+json\"}\n",
    "\n",
    "def gh_put_file(repo: str, path: str, content_bytes: bytes, message: str, branch=\"main\"):\n",
    "    url = f\"{GITHUB_API}/repos/{repo}/contents/{path}\"\n",
    "    payload = {\"message\": message, \"content\": base64.b64encode(content_bytes).decode(\"ascii\"), \"branch\": branch}\n",
    "    r = requests.put(url, headers=gh_headers(), json=payload, timeout=60)\n",
    "    if r.status_code not in (200,201):\n",
    "        raise RuntimeError(f\"PUT {path} failed: {r.status_code} {r.text}\")\n",
    "    return r.json()\n",
    "\n",
    "def gh_create_release(repo: str, tag: str, name: str, body: str = \"\", draft=False, prerelease=False):\n",
    "    url = f\"{GITHUB_API}/repos/{repo}/releases\"\n",
    "    payload = {\"tag_name\": tag, \"name\": name, \"body\": body, \"draft\": draft, \"prerelease\": prerelease}\n",
    "    r = requests.post(url, headers=gh_headers(), json=payload, timeout=60)\n",
    "    if r.status_code not in (200,201):\n",
    "        if r.status_code == 422 and \"already_exists\" in r.text:\n",
    "            r2 = requests.get(f\"{GITHUB_API}/repos/{repo}/releases/tags/{tag}\", headers=gh_headers(), timeout=60)\n",
    "            r2.raise_for_status()\n",
    "            return r2.json()\n",
    "        raise RuntimeError(f\"Create release failed: {r.status_code} {r.text}\")\n",
    "    return r.json()\n",
    "\n",
    "def gh_upload_asset(upload_url_template: str, filename: str, data: bytes, content_type: str = \"application/octet-stream\"):\n",
    "    upload_url = upload_url_template.split(\"{\")[0] + f\"?name={filename}\"\n",
    "    headers = gh_headers(); headers[\"Content-Type\"] = content_type\n",
    "    r = requests.post(upload_url, headers=headers, data=data, timeout=300)\n",
    "    if r.status_code not in (200,201):\n",
    "        raise RuntimeError(f\"Upload asset failed: {r.status_code} {r.text}\")\n",
    "    return r.json()\n"
   ]
  },
  {
   "cell_type": "markdown",
   "id": "9fc419aa",
   "metadata": {},
   "source": [
    "## 4) Generate random 成语 + script (review)"
   ]
  },
  {
   "cell_type": "code",
   "execution_count": 54,
   "id": "7ee2db27",
   "metadata": {},
   "outputs": [
    {
     "name": "stdout",
     "output_type": "stream",
     "text": [
      "Chengyu : 画蛇添足\n",
      "Pinyin  : huà shé tiān zú\n",
      "Gloss   : To add unnecessary details; to ruin something by overdoing it.\n",
      "Teaser  : Today, we’ll explore how sometimes less is more.\n",
      "\n",
      "--- SCRIPT (first 1200 chars) ---\n",
      "\n",
      "Welcome to Chengyu Bites — your quick summary on Chinese 成语. Today, we’ll explore how sometimes less is more.[break 1s] The phrase is: 画蛇添足, huà shé tiān zú.[break 0.5s] 画 (huà) - to draw[break 0.5s] 蛇 (shé) - snake[break 0.5s] 添 (tiān) - to add[break 0.5s] 足 (zú) - feet[break 1s] Full idiom: 画蛇添足 - literally 'to draw a snake and add feet' and figuratively means to add unnecessary details; to ruin something by overdoing it.[break 1s] Here’s the story behind it:[break 1.5s] In ancient times, there was a contest to see who could draw a snake the fastest. One man finished quickly, but another, wanting to show off, added feet to his snake. In the end, the man who drew the simple snake won, and the embellished one lost. This tale teaches us to appreciate simplicity.[break 1.5s] Example 1: 这幅画已经很完美了，不要再画蛇添足了。[break 1s] This painting is already perfect; don’t overdo it. [break 1s] Example 2: 你在报告中加入太多细节，反而画蛇添足。 [break 1s] You added too many details in your report, making it unnecessarily complicated. [break 1s] Example 3: 他的话本来很有意思，但后来画蛇添足，变得无聊。 [break 1s] His words were interesting at first, but then he overexplained and it became boring. [break 1s] So, today’s idiom is 画蛇添足 - to add unn...\n"
     ]
    }
   ],
   "source": [
    "ep = gen_episode(SHOW_NAME)\n",
    "print(\"Chengyu :\", ep[\"chengyu\"])\n",
    "print(\"Pinyin  :\", ep[\"pinyin\"])\n",
    "print(\"Gloss   :\", ep[\"gloss\"])\n",
    "print(\"Teaser  :\", ep[\"teaser\"])\n",
    "\n",
    "print(\"\\n--- SCRIPT (first 1200 chars) ---\\n\")\n",
    "print(ep[\"script\"][:1200] + (\"...\" if len(ep[\"script\"])>1200 else \"\"))\n"
   ]
  },
  {
   "cell_type": "markdown",
   "id": "263462e0",
   "metadata": {},
   "source": [
    "## 5) (Optional) Edit fields before publishing"
   ]
  },
  {
   "cell_type": "code",
   "execution_count": 55,
   "id": "02b3ef34",
   "metadata": {},
   "outputs": [
    {
     "name": "stdout",
     "output_type": "stream",
     "text": [
      "画蛇添足 | huà shé tiān zú\n",
      "To add unnecessary details; to ruin something by overdoing it.\n",
      "\n",
      "Preview script start:\n",
      " Welcome to Chengyu Bites — your quick summary on Chinese 成语. Today, we’ll explore how sometimes less is more.[break 1s] The phrase is: 画蛇添足, huà shé tiān zú.[break 0.5s] 画 (huà) - to draw[break 0.5s] 蛇 (shé) - snake[break 0.5s] 添 (tiān) - to add[break 0.5s] 足 (zú) - feet[break 1s] Full idiom: 画蛇添足 - literally 'to draw a snake and add feet' and figuratively means to add unnecessary details; to ruin something by overdoing it.[break 1s] Here’s the story behind it:[break 1.5s] In ancient times, there was a contest to see who could draw a snake the fastest. One man finished quickly, but another, wa\n"
     ]
    }
   ],
   "source": [
    "\n",
    "chengyu = ep[\"chengyu\"]\n",
    "pinyin  = ep[\"pinyin\"]\n",
    "gloss   = ep[\"gloss\"]\n",
    "teaser  = ep[\"teaser\"]\n",
    "script  = ep[\"script\"]\n",
    "\n",
    "# Example: tweak teaser\n",
    "# teaser = \"A quick bite about perspective.\"\n",
    "\n",
    "print(chengyu, \"|\", pinyin)\n",
    "print(gloss)\n",
    "print(\"\\nPreview script start:\\n\", script[:600])\n"
   ]
  },
  {
   "cell_type": "markdown",
   "id": "086392ab",
   "metadata": {},
   "source": [
    "## 6) Build local assets (cover, transcript, optional TTS)"
   ]
  },
  {
   "cell_type": "code",
   "execution_count": 56,
   "id": "2c6501c1",
   "metadata": {},
   "outputs": [
    {
     "name": "stdout",
     "output_type": "stream",
     "text": [
      "Audio generated: /Users/tilman/github3/chengyudaily/build/2025-08-20-画蛇添足/audio.mp3\n",
      "Built assets in: /Users/tilman/github3/chengyudaily/build/2025-08-20-画蛇添足\n"
     ]
    }
   ],
   "source": [
    "\n",
    "today = datetime.date.today()\n",
    "date_str = today.strftime(\"%Y-%m-%d\")\n",
    "slug = slugify(chengyu)\n",
    "folder = f\"{date_str}-{slug}\"\n",
    "ep_dir = Path(\"build\") / folder\n",
    "ep_dir.mkdir(parents=True, exist_ok=True)\n",
    "\n",
    "# cover\n",
    "cover_png = draw_cover_png(chengyu, pinyin, gloss)\n",
    "( ep_dir / \"cover.png\").write_bytes(cover_png)\n",
    "\n",
    "# transcript\n",
    "( ep_dir / \"transcript.txt\").write_text(script, encoding=\"utf-8\")\n",
    "\n",
    "# metadata\n",
    "metadata = {\n",
    "    \"show\": SHOW_NAME,\n",
    "    \"chengyu\": chengyu,\n",
    "    \"pinyin\": pinyin,\n",
    "    \"gloss\": gloss,\n",
    "    \"teaser\": teaser,\n",
    "    \"pubDate\": today.isoformat()\n",
    "}\n",
    "( ep_dir / \"metadata.json\").write_text(json.dumps(metadata, ensure_ascii=False, indent=2), encoding=\"utf-8\")\n",
    "\n",
    "audio_mp3 = b\"\"\n",
    "if DO_TTS:\n",
    "    try:\n",
    "        audio_mp3 = tts_mp3(script)\n",
    "        ( ep_dir / \"audio.mp3\").write_bytes(audio_mp3)\n",
    "        print(\"Audio generated:\", (ep_dir/\"audio.mp3\").resolve())\n",
    "    except Exception as e:\n",
    "        print(\"TTS failed:\", e)\n",
    "else:\n",
    "    print(\"Skipping TTS (DO_TTS=False)\")\n",
    "\n",
    "print(\"Built assets in:\", ep_dir.resolve())\n"
   ]
  },
  {
   "cell_type": "markdown",
   "id": "1ea3960d",
   "metadata": {},
   "source": [
    "## 7) Publish to GitHub (Release asset + commit files)"
   ]
  },
  {
   "cell_type": "code",
   "execution_count": 57,
   "id": "b880e8f0",
   "metadata": {},
   "outputs": [
    {
     "ename": "RuntimeError",
     "evalue": "Upload asset failed: 422 {\"message\":\"Validation Failed\",\"request_id\":\"3FFF:CC577:24165F:28A3EA:68A62407\",\"documentation_url\":\"https://docs.github.com/rest\",\"errors\":[{\"resource\":\"ReleaseAsset\",\"code\":\"already_exists\",\"field\":\"name\"}]}",
     "output_type": "error",
     "traceback": [
      "\u001b[31m---------------------------------------------------------------------------\u001b[39m",
      "\u001b[31mRuntimeError\u001b[39m                              Traceback (most recent call last)",
      "\u001b[36mCell\u001b[39m\u001b[36m \u001b[39m\u001b[32mIn[57]\u001b[39m\u001b[32m, line 20\u001b[39m\n\u001b[32m     18\u001b[39m name = \u001b[33mf\u001b[39m\u001b[33m\"\u001b[39m\u001b[38;5;132;01m{\u001b[39;00mchengyu\u001b[38;5;132;01m}\u001b[39;00m\u001b[33m (\u001b[39m\u001b[38;5;132;01m{\u001b[39;00mpinyin\u001b[38;5;132;01m}\u001b[39;00m\u001b[33m)\u001b[39m\u001b[33m\"\u001b[39m\n\u001b[32m     19\u001b[39m rel  = gh_create_release(REPO, tag=tag, name=name, body=\u001b[33mf\u001b[39m\u001b[33m\"\u001b[39m\u001b[33mEpisode: \u001b[39m\u001b[38;5;132;01m{\u001b[39;00mchengyu\u001b[38;5;132;01m}\u001b[39;00m\u001b[33m\"\u001b[39m)\n\u001b[32m---> \u001b[39m\u001b[32m20\u001b[39m asset = \u001b[43mgh_upload_asset\u001b[49m\u001b[43m(\u001b[49m\n\u001b[32m     21\u001b[39m \u001b[43m    \u001b[49m\u001b[43mrel\u001b[49m\u001b[43m[\u001b[49m\u001b[33;43m\"\u001b[39;49m\u001b[33;43mupload_url\u001b[39;49m\u001b[33;43m\"\u001b[39;49m\u001b[43m]\u001b[49m\u001b[43m,\u001b[49m\n\u001b[32m     22\u001b[39m \u001b[43m    \u001b[49m\u001b[43mfilename\u001b[49m\u001b[43m=\u001b[49m\u001b[33;43mf\u001b[39;49m\u001b[33;43m\"\u001b[39;49m\u001b[38;5;132;43;01m{\u001b[39;49;00m\u001b[43mfolder\u001b[49m\u001b[38;5;132;43;01m}\u001b[39;49;00m\u001b[33;43m.mp3\u001b[39;49m\u001b[33;43m\"\u001b[39;49m\u001b[43m,\u001b[49m\n\u001b[32m     23\u001b[39m \u001b[43m    \u001b[49m\u001b[43mdata\u001b[49m\u001b[43m=\u001b[49m\u001b[43maudio_mp3\u001b[49m\u001b[43m,\u001b[49m\n\u001b[32m     24\u001b[39m \u001b[43m    \u001b[49m\u001b[43mcontent_type\u001b[49m\u001b[43m=\u001b[49m\u001b[33;43m\"\u001b[39;49m\u001b[33;43maudio/mpeg\u001b[39;49m\u001b[33;43m\"\u001b[39;49m\n\u001b[32m     25\u001b[39m \u001b[43m\u001b[49m\u001b[43m)\u001b[49m\n\u001b[32m     26\u001b[39m audio_url = asset[\u001b[33m\"\u001b[39m\u001b[33mbrowser_download_url\u001b[39m\u001b[33m\"\u001b[39m]\n\u001b[32m     27\u001b[39m audio_bytes = asset.get(\u001b[33m\"\u001b[39m\u001b[33msize\u001b[39m\u001b[33m\"\u001b[39m, \u001b[38;5;28mlen\u001b[39m(audio_mp3))\n",
      "\u001b[36mCell\u001b[39m\u001b[36m \u001b[39m\u001b[32mIn[53]\u001b[39m\u001b[32m, line 169\u001b[39m, in \u001b[36mgh_upload_asset\u001b[39m\u001b[34m(upload_url_template, filename, data, content_type)\u001b[39m\n\u001b[32m    167\u001b[39m r = requests.post(upload_url, headers=headers, data=data, timeout=\u001b[32m300\u001b[39m)\n\u001b[32m    168\u001b[39m \u001b[38;5;28;01mif\u001b[39;00m r.status_code \u001b[38;5;129;01mnot\u001b[39;00m \u001b[38;5;129;01min\u001b[39;00m (\u001b[32m200\u001b[39m,\u001b[32m201\u001b[39m):\n\u001b[32m--> \u001b[39m\u001b[32m169\u001b[39m     \u001b[38;5;28;01mraise\u001b[39;00m \u001b[38;5;167;01mRuntimeError\u001b[39;00m(\u001b[33mf\u001b[39m\u001b[33m\"\u001b[39m\u001b[33mUpload asset failed: \u001b[39m\u001b[38;5;132;01m{\u001b[39;00mr.status_code\u001b[38;5;132;01m}\u001b[39;00m\u001b[33m \u001b[39m\u001b[38;5;132;01m{\u001b[39;00mr.text\u001b[38;5;132;01m}\u001b[39;00m\u001b[33m\"\u001b[39m)\n\u001b[32m    170\u001b[39m \u001b[38;5;28;01mreturn\u001b[39;00m r.json()\n",
      "\u001b[31mRuntimeError\u001b[39m: Upload asset failed: 422 {\"message\":\"Validation Failed\",\"request_id\":\"3FFF:CC577:24165F:28A3EA:68A62407\",\"documentation_url\":\"https://docs.github.com/rest\",\"errors\":[{\"resource\":\"ReleaseAsset\",\"code\":\"already_exists\",\"field\":\"name\"}]}"
     ]
    }
   ],
   "source": [
    "if DRY_RUN:\n",
    "    print(\"DRY_RUN=True — skipping GitHub upload and commit.\")\n",
    "else:\n",
    "    # --- publish: single commit via git + release asset upload ---\n",
    "    import os, json, tempfile, shutil, subprocess\n",
    "    from pathlib import Path\n",
    "\n",
    "    def run(cmd, cwd=None, hide_token=False):\n",
    "        display = \" \".join([\"***\" if hide_token and \"@\" in str(x) else str(x) for x in cmd])\n",
    "        print(\"+\", display)\n",
    "        subprocess.check_call(cmd, cwd=cwd)\n",
    "\n",
    "    # 1) Create release + upload MP3 (same as before)\n",
    "    audio_url = \"\"\n",
    "    audio_bytes = 0\n",
    "    if DO_TTS and audio_mp3:\n",
    "        tag  = f\"v{today.strftime('%Y%m%d')}-{slug}\"\n",
    "        name = f\"{chengyu} ({pinyin})\"\n",
    "        rel  = gh_create_release(REPO, tag=tag, name=name, body=f\"Episode: {chengyu}\")\n",
    "        asset = gh_upload_asset(\n",
    "            rel[\"upload_url\"],\n",
    "            filename=f\"{folder}.mp3\",\n",
    "            data=audio_mp3,\n",
    "            content_type=\"audio/mpeg\"\n",
    "        )\n",
    "        audio_url = asset[\"browser_download_url\"]\n",
    "        audio_bytes = asset.get(\"size\", len(audio_mp3))\n",
    "        print(\"Uploaded asset:\", audio_url)\n",
    "    else:\n",
    "        print(\"No audio to upload (TTS disabled or failed). You can upload manually later and set audio_url in the post.\")\n",
    "\n",
    "    # 2) Pr\n"
   ]
  },
  {
   "cell_type": "markdown",
   "id": "8c9e01c8",
   "metadata": {},
   "source": [
    "## 8) Done"
   ]
  },
  {
   "cell_type": "markdown",
   "id": "28629d45",
   "metadata": {},
   "source": [
    "\n",
    "If you later add a feed-builder Action, pushing the post will update `podcast.xml` automatically.\n",
    "Submit your Pages feed URL to Spotify:  \n",
    "`https://kohlenberg.github.io/chengyudaily/podcast.xml`\n"
   ]
  }
 ],
 "metadata": {
  "kernelspec": {
   "display_name": "chengyudaily",
   "language": "python",
   "name": "python3"
  },
  "language_info": {
   "codemirror_mode": {
    "name": "ipython",
    "version": 3
   },
   "file_extension": ".py",
   "mimetype": "text/x-python",
   "name": "python",
   "nbconvert_exporter": "python",
   "pygments_lexer": "ipython3",
   "version": "3.11.13"
  }
 },
 "nbformat": 4,
 "nbformat_minor": 5
}
